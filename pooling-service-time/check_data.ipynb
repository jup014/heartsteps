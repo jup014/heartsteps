{
 "cells": [
  {
   "cell_type": "code",
   "execution_count": 1,
   "metadata": {},
   "outputs": [],
   "source": [
    "import gpytorch\n",
    "import pyreadr\n",
    "from sklearn import preprocessing\n",
    "import R_to_python_functions_analysis as RPY\n",
    "#import hyperparameter_runner\n",
    "import json\n",
    "import pickle\n",
    "import sys\n",
    "import os\n",
    "import pandas as pd\n",
    "import numpy as np\n",
    "import matplotlib.pyplot as plt\n",
    "import datetime\n",
    "%matplotlib inline"
   ]
  },
  {
   "cell_type": "code",
   "execution_count": 2,
   "metadata": {},
   "outputs": [],
   "source": [
    "lookup = RPY.get_user_ids()\n",
    "rlookup = {v:k for k,v in lookup.items()}\n",
    "uls = lookup.keys()"
   ]
  },
  {
   "cell_type": "code",
   "execution_count": 3,
   "metadata": {},
   "outputs": [],
   "source": [
    "def get_user_policy_date_specific(user_id,date):\n",
    "    \n",
    "    day = date.day\n",
    "    if day<10:\n",
    "        day='0{}'.format(day)\n",
    "    else:\n",
    "        day=str(day)\n",
    "        \n",
    "    formatted_date = '{}-{}-{}'.format(date.year,date.month,day)\n",
    "    #print(formatted_date)\n",
    "    if formatted_date == '2019-10-25':\n",
    "        formatted_date = '2019-10-24'\n",
    "    try:\n",
    "        with open('data/test_{}.pkl'.format(formatted_date),'rb') as f:\n",
    "            test = pickle.load(f)\n",
    "    \n",
    "    #print(test.keys())\n",
    "        user_id = lookup[str(user_id)]\n",
    "        if user_id in test:\n",
    "            return test[user_id]\n",
    "        else:\n",
    "            return 'not found'\n",
    "    except:\n",
    "        return 'no file'"
   ]
  },
  {
   "cell_type": "code",
   "execution_count": null,
   "metadata": {},
   "outputs": [],
   "source": []
  },
  {
   "cell_type": "code",
   "execution_count": null,
   "metadata": {},
   "outputs": [],
   "source": [
    "x,y,locs,days,probs = RPY.get_all_for_one_user('./data',str(user_id))"
   ]
  }
 ],
 "metadata": {
  "kernelspec": {
   "display_name": "Python 3",
   "language": "python",
   "name": "python3"
  },
  "language_info": {
   "codemirror_mode": {
    "name": "ipython",
    "version": 3
   },
   "file_extension": ".py",
   "mimetype": "text/x-python",
   "name": "python",
   "nbconvert_exporter": "python",
   "pygments_lexer": "ipython3",
   "version": "3.6.8"
  }
 },
 "nbformat": 4,
 "nbformat_minor": 2
}
