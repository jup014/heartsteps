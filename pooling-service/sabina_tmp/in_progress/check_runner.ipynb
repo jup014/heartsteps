{
 "cells": [
  {
   "cell_type": "code",
   "execution_count": 1,
   "metadata": {
    "collapsed": true
   },
   "outputs": [],
   "source": [
    "import gpytorch\n",
    "import pyreadr\n",
    "import pooling_params as gtp\n",
    "import run_gpytorchkernel\n",
    "import simple_bandits\n",
    "from sklearn import preprocessing\n",
    "import R_to_python_functions\n",
    "import json"
   ]
  },
  {
   "cell_type": "code",
   "execution_count": 2,
   "metadata": {
    "collapsed": true
   },
   "outputs": [],
   "source": [
    "import numpy as np"
   ]
  },
  {
   "cell_type": "code",
   "execution_count": 3,
   "metadata": {
    "collapsed": true
   },
   "outputs": [],
   "source": [
    "import os"
   ]
  },
  {
   "cell_type": "code",
   "execution_count": 7,
   "metadata": {},
   "outputs": [
    {
     "data": {
      "text/plain": [
       "'/pooling-service/sabina_tmp/in_progress'"
      ]
     },
     "execution_count": 7,
     "metadata": {},
     "output_type": "execute_result"
    }
   ],
   "source": [
    "def main(data_path):\n",
    "    result = pyreadr.read_r(data_path)\n",
    "    baseline_features = ['temperature', 'logpresteps', 'sqrt.totalsteps',\\\n",
    "                         'dosage', 'engagement', 'work.location', 'other.location', 'variation']\n",
    "    responsivity_features = ['dosage', 'engagement', 'work.location', 'other.location', 'variation']\n",
    "    data_dict = process_data(result['train.dat'],baseline_features)\n",
    "    standard_x = get_standard_x(data_dict['data'])"
   ]
  },
  {
   "cell_type": "code",
   "execution_count": 4,
   "metadata": {
    "collapsed": true
   },
   "outputs": [],
   "source": [
    "data_path = '../../data/train_EB.RData'"
   ]
  },
  {
   "cell_type": "code",
   "execution_count": 28,
   "metadata": {
    "collapsed": true
   },
   "outputs": [],
   "source": []
  },
  {
   "cell_type": "code",
   "execution_count": 17,
   "metadata": {
    "collapsed": true
   },
   "outputs": [],
   "source": [
    "baseline_features = ['temperature', 'logpresteps', 'sqrt.totalsteps',\\\n",
    "                         'dosage', 'engagement', 'work.location', 'other.location', 'variation']\n",
    "responsivity_features = ['dosage', 'engagement', 'work.location', 'other.location', 'variation']"
   ]
  },
  {
   "cell_type": "code",
   "execution_count": 32,
   "metadata": {
    "collapsed": true
   },
   "outputs": [],
   "source": [
    "def get_standard_x(X):\n",
    "    return preprocessing.StandardScaler().fit_transform(X)"
   ]
  },
  {
   "cell_type": "code",
   "execution_count": 33,
   "metadata": {
    "collapsed": true
   },
   "outputs": [],
   "source": [
    "standard_x = get_standard_x(data_dict['data'])"
   ]
  },
  {
   "cell_type": "code",
   "execution_count": 5,
   "metadata": {
    "collapsed": true
   },
   "outputs": [],
   "source": [
    "def fake_data(n):\n",
    "    #temperature, last steps, prior,location\n",
    "    return [[np.random.random()*50+10,np.random.random()*30,np.random.random()*20,int(np.random.random()>.5)] for i in range(n)]"
   ]
  },
  {
   "cell_type": "code",
   "execution_count": 6,
   "metadata": {
    "collapsed": true
   },
   "outputs": [],
   "source": [
    "data = fake_data(100)"
   ]
  },
  {
   "cell_type": "code",
   "execution_count": 92,
   "metadata": {
    "collapsed": true
   },
   "outputs": [],
   "source": [
    "def initialize_policy_params_TS(standardize=False,baseline_features=None,psi_features=None,\\\n",
    "                                responsivity_keys=None):\n",
    "    #,'location_1','location_2','location_3'\n",
    "    #'continuous_temp',\n",
    "    global_p =gtp.TS_global_params(21,baseline_features=baseline_features,psi_features=psi_features, responsivity_keys= responsivity_keys)\n",
    "    #personal_p = pp.TS_personal_params()\n",
    "    #global_p =gtp.TS_global_params(10,context_dimension)\n",
    "    \n",
    "    \n",
    "    \n",
    "    #global_p.mu_dimension = 64\n",
    "    \n",
    "    global_p.kdim =24\n",
    "    #194\n",
    "    global_p.baseline_indices = [i for i in range(3+ len(baseline_features)+2*len(responsivity_keys))]\n",
    "    #[i for i in range(192)]\n",
    "    #[0,1,2,3,4,5,6]\n",
    "    global_p.psi_indices = [0] + [1+baseline_features.index(j) for j in psi_features] \\\n",
    "    + [len(baseline_features)+1] + [(2+len(baseline_features))+baseline_features.index(j) for j in psi_features]\n",
    "    #[0,64]\n",
    "    global_p.user_id_index =0\n",
    "    \n",
    "    global_p.psi_features =psi_features\n",
    "    #[0,64]\n",
    "    \n",
    "    #print(global_p.psi_indices )\n",
    "    \n",
    "    #global_p.update_period = update_period\n",
    "    \n",
    "    global_p.standardize = standardize\n",
    "    global_p.lr = .01\n",
    "\n",
    "    initial_context = [0 for i in range(global_p.theta_dim)]\n",
    "    \n",
    "    global_p.mus0= global_p.get_mu0(initial_context)\n",
    "    #global_p.get_mu0(initial_context)\n",
    "    global_p.mus1= global_p.get_mu1(global_p.num_baseline_features)\n",
    "    global_p.mus2= global_p.get_mu2(global_p.num_responsivity_features)\n",
    "    #np.array([.120,3.3,-.11])\n",
    "    #global_p.get_mu2(global_p.num_responsivity_features)\n",
    "    \n",
    "    #global_p.sigmas0= global_p.get_asigma(len( personal_p.mus0[person]))\n",
    "    global_p.sigmas1= global_p.get_asigma(global_p.num_baseline_features+1)\n",
    "    global_p.sigmas2= global_p.get_asigma( global_p.num_responsivity_features+1)\n",
    "    \n",
    "\n",
    "    global_p.mu2_knot = np.array([0]+[0 for i in range(global_p.num_responsivity_features)])\n",
    "    global_p.mu1_knot = np.zeros(global_p.num_baseline_features+1)\n",
    "    global_p.sigma1_knot = np.eye(global_p.num_baseline_features+1)\n",
    "    global_p.sigma2_knot = np.eye(global_p.num_responsivity_features+1)\n",
    "\n",
    "    return global_p"
   ]
  },
  {
   "cell_type": "code",
   "execution_count": 96,
   "metadata": {
    "collapsed": true
   },
   "outputs": [],
   "source": [
    "def get_phi(standard_x,all_dict,baseline_indices,responsivity_indices):\n",
    "    ##returns users, transformed data, and transformed rewards\n",
    "    to_return = []\n",
    "    \n",
    "    users = []\n",
    "    for i in range(len(standard_x)):\n",
    "        if all_dict['avail'][i]:\n",
    "            raw_data = standard_x[i]\n",
    "            temp = [1]\n",
    "            temp.extend([raw_data[i] for i in baseline_indices])\n",
    "            temp_two  = [1]\n",
    "            temp_two.extend([raw_data[i] for i in responsivity_indices])\n",
    "            temp.extend([all_dict['prob'][i]*d for d in temp_two])\n",
    "            temp.extend([(all_dict['actions'][i]-all_dict['prob'][i])*d for d in temp_two])\n",
    "            to_return.append(temp)\n",
    "            users.append(all_dict['users'][i])\n",
    "    to_adjust = [np.array(all_dict['reward']).mean()]+[0]*(len(to_return[0])-1)\n",
    "    #to_adjust = np.ones(len(to_return[0]))\n",
    "    y = np.array([all_dict['reward'][i]-np.dot(to_return[i],to_adjust) for i in range(len(to_return))])\n",
    "    return np.array(to_return),y,np.array(users)"
   ]
  },
  {
   "cell_type": "code",
   "execution_count": 78,
   "metadata": {
    "collapsed": true
   },
   "outputs": [],
   "source": [
    "data_dict = process_data(result['train.dat'],baseline_features)\n",
    "standard_x = get_standard_x(data_dict['data'])"
   ]
  },
  {
   "cell_type": "code",
   "execution_count": 97,
   "metadata": {
    "collapsed": true
   },
   "outputs": [],
   "source": [
    "X,y,users = get_phi(standard_x,data_dict,[i for i in range(len(baseline_features))],\\\n",
    "                    [i for i in range(baseline_features.index(responsivity_features[0]),len(baseline_features))])"
   ]
  },
  {
   "cell_type": "code",
   "execution_count": 81,
   "metadata": {},
   "outputs": [
    {
     "data": {
      "text/plain": [
       "1.5933105218817263"
      ]
     },
     "execution_count": 81,
     "metadata": {},
     "output_type": "execute_result"
    }
   ],
   "source": [
    "np.array(data_dict['reward']).mean()\n",
    "y.std()"
   ]
  },
  {
   "cell_type": "code",
   "execution_count": 98,
   "metadata": {
    "collapsed": true
   },
   "outputs": [],
   "source": [
    "glob = initialize_policy_params_TS(standardize=False,baseline_features=[i for i in range(len(baseline_features))],psi_features=[],responsivity_keys=[i for i in range(3,len(baseline_features))])\n",
    "               "
   ]
  },
  {
   "cell_type": "code",
   "execution_count": 99,
   "metadata": {
    "collapsed": true
   },
   "outputs": [],
   "source": [
    "def new_form(X):\n",
    "    to_return = []\n",
    "    for x in X:\n",
    "        intercept = [1]\n",
    "        base = intercept+x\n",
    "        second = [.6*base[i] for i in range(len(base)) ]\n",
    "        third = [int(np.random.random()>.5)-.6*base[i] for i in range(len(base)) ]\n",
    "        to_return.append(base+second+third)\n",
    "    return to_return\n",
    "    \n",
    "    "
   ]
  },
  {
   "cell_type": "code",
   "execution_count": 101,
   "metadata": {},
   "outputs": [
    {
     "data": {
      "text/plain": [
       "13"
      ]
     },
     "execution_count": 101,
     "metadata": {},
     "output_type": "execute_result"
    }
   ],
   "source": [
    "len(users)"
   ]
  },
  {
   "cell_type": "code",
   "execution_count": 94,
   "metadata": {},
   "outputs": [
    {
     "data": {
      "text/plain": [
       "[0, 1, 2, 3, 4, 5, 6, 7, 8, 9, 10, 11, 12, 13, 14, 15, 16, 17, 18, 19, 20]"
      ]
     },
     "execution_count": 94,
     "metadata": {},
     "output_type": "execute_result"
    }
   ],
   "source": [
    "glob.baseline_indices"
   ]
  },
  {
   "cell_type": "code",
   "execution_count": 102,
   "metadata": {
    "collapsed": true
   },
   "outputs": [],
   "source": [
    "temp_params = run_gpytorchkernel.run(X, users,y,glob)"
   ]
  },
  {
   "cell_type": "code",
   "execution_count": 104,
   "metadata": {
    "collapsed": true
   },
   "outputs": [],
   "source": [
    "inv_term = simple_bandits.get_inv_term(temp_params['cov'],X.shape[0],temp_params['noise'])\n",
    "glob.update_params(temp_params)\n",
    "glob.inv_term=inv_term"
   ]
  },
  {
   "cell_type": "code",
   "execution_count": 105,
   "metadata": {
    "collapsed": true
   },
   "outputs": [],
   "source": [
    "def get_posterior_parameters_all():\n",
    "    temp = simple_bandits.calculate_posterior_faster(glob,\\\n",
    "                                                         participant.pid,participant.current_day_counter,\\\n",
    "                                                         history[0], history[1],history[2] )"
   ]
  },
  {
   "cell_type": "code",
   "execution_count": 107,
   "metadata": {
    "collapsed": true
   },
   "outputs": [],
   "source": [
    "temp = simple_bandits.calculate_posterior_faster(glob,\\\n",
    "                                                         1,0,\\\n",
    "                                                        X, users,np.array([[i] for i in y]) )"
   ]
  },
  {
   "cell_type": "code",
   "execution_count": 108,
   "metadata": {},
   "outputs": [
    {
     "data": {
      "text/plain": [
       "(array([-0.18712527,  0.32614318,  0.        , -0.06628575,  0.        ,\n",
       "         0.93582842]),\n",
       " [array([ 0.54548707, -0.18460375,  0.        ,  0.00227221,  0.        ,\n",
       "          0.12541985]),\n",
       "  array([ -1.84603747e-01,   8.54974941e-01,   0.00000000e+00,\n",
       "           1.06562680e-04,   0.00000000e+00,   1.93457569e-02]),\n",
       "  array([ 0.,  0.,  1.,  0.,  0.,  0.]),\n",
       "  array([  2.27220866e-03,   1.06562680e-04,   0.00000000e+00,\n",
       "           1.10233751e+00,   0.00000000e+00,  -1.16999239e-03]),\n",
       "  array([ 0.,  0.,  0.,  0.,  1.,  0.]),\n",
       "  array([ 0.12541985,  0.01934576,  0.        , -0.00116999,  0.        ,\n",
       "          0.67793525])])"
      ]
     },
     "execution_count": 108,
     "metadata": {},
     "output_type": "execute_result"
    }
   ],
   "source": [
    "temp"
   ]
  },
  {
   "cell_type": "code",
   "execution_count": null,
   "metadata": {
    "collapsed": true
   },
   "outputs": [],
   "source": []
  }
 ],
 "metadata": {
  "kernelspec": {
   "display_name": "Python 3",
   "language": "python",
   "name": "python3"
  },
  "language_info": {
   "codemirror_mode": {
    "name": "ipython",
    "version": 3
   },
   "file_extension": ".py",
   "mimetype": "text/x-python",
   "name": "python",
   "nbconvert_exporter": "python",
   "pygments_lexer": "ipython3",
   "version": "3.6.8"
  }
 },
 "nbformat": 4,
 "nbformat_minor": 2
}
