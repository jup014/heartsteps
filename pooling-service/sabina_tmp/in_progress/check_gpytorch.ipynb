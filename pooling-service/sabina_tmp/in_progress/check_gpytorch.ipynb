{
 "cells": [
  {
   "cell_type": "code",
   "execution_count": 35,
   "metadata": {
    "collapsed": true
   },
   "outputs": [],
   "source": [
    "import gpytorch\n",
    "import pyreadr\n",
    "import pooling_params as gtp\n",
    "import run_gpytorchkernel"
   ]
  },
  {
   "cell_type": "code",
   "execution_count": 15,
   "metadata": {
    "collapsed": true
   },
   "outputs": [],
   "source": [
    "import numpy as np"
   ]
  },
  {
   "cell_type": "code",
   "execution_count": 2,
   "metadata": {
    "collapsed": true
   },
   "outputs": [],
   "source": [
    "import os"
   ]
  },
  {
   "cell_type": "code",
   "execution_count": 21,
   "metadata": {
    "collapsed": true
   },
   "outputs": [],
   "source": [
    "def fake_data(n):\n",
    "    #temperature, last steps, prior,location\n",
    "    return [[np.random.random()*50+10,np.random.random()*30,np.random.random()*20,int(np.random.random()>.5)] for i in range(n)]"
   ]
  },
  {
   "cell_type": "code",
   "execution_count": 22,
   "metadata": {},
   "outputs": [],
   "source": [
    "data = fake_data(100)"
   ]
  },
  {
   "cell_type": "code",
   "execution_count": 49,
   "metadata": {},
   "outputs": [],
   "source": [
    "def initialize_policy_params_TS(standardize=False,baseline_features=None,psi_features=None,\\\n",
    "                                responsivity_keys=None):\n",
    "    #,'location_1','location_2','location_3'\n",
    "    #'continuous_temp',\n",
    "    global_p =gtp.TS_global_params(21,baseline_features=baseline_features,psi_features=psi_features, responsivity_keys= responsivity_keys)\n",
    "    #personal_p = pp.TS_personal_params()\n",
    "    #global_p =gtp.TS_global_params(10,context_dimension)\n",
    "    \n",
    "    \n",
    "    \n",
    "    #global_p.mu_dimension = 64\n",
    "    \n",
    "    global_p.kdim =24\n",
    "    #194\n",
    "    global_p.baseline_indices = [i for i in range(3+ 3*len(baseline_features))]\n",
    "    #[i for i in range(192)]\n",
    "    #[0,1,2,3,4,5,6]\n",
    "    global_p.psi_indices = [0] + [1+baseline_features.index(j) for j in psi_features] \\\n",
    "    + [len(baseline_features)+1] + [(2+len(baseline_features))+baseline_features.index(j) for j in psi_features]\n",
    "    #[0,64]\n",
    "    global_p.user_id_index =0\n",
    "    \n",
    "    global_p.psi_features =psi_features\n",
    "    #[0,64]\n",
    "    \n",
    "    #print(global_p.psi_indices )\n",
    "    \n",
    "    #global_p.update_period = update_period\n",
    "    \n",
    "    global_p.standardize = standardize\n",
    "    global_p.lr = .01\n",
    "\n",
    "    initial_context = [0 for i in range(global_p.theta_dim)]\n",
    "    \n",
    "    global_p.mus0= global_p.get_mu0(initial_context)\n",
    "    #global_p.get_mu0(initial_context)\n",
    "    global_p.mus1= global_p.get_mu1(global_p.num_baseline_features)\n",
    "    global_p.mus2= global_p.get_mu2(global_p.num_responsivity_features)\n",
    "    #np.array([.120,3.3,-.11])\n",
    "    #global_p.get_mu2(global_p.num_responsivity_features)\n",
    "    \n",
    "    #global_p.sigmas0= global_p.get_asigma(len( personal_p.mus0[person]))\n",
    "    global_p.sigmas1= global_p.get_asigma(global_p.num_baseline_features+1)\n",
    "    global_p.sigmas2= global_p.get_asigma( global_p.num_responsivity_features+1)\n",
    "    \n",
    "\n",
    "    global_p.mu2_knot = np.array([0]+[0 for i in range(global_p.num_responsivity_features)])\n",
    "    global_p.mu1_knot = np.zeros(global_p.num_baseline_features+1)\n",
    "    global_p.sigma1_knot = np.eye(global_p.num_baseline_features+1)\n",
    "    global_p.sigma2_knot = np.eye(global_p.num_responsivity_features+1)\n",
    "\n",
    "    return global_p"
   ]
  },
  {
   "cell_type": "code",
   "execution_count": 50,
   "metadata": {},
   "outputs": [],
   "source": [
    "glob = initialize_policy_params_TS(standardize=False,baseline_features=[i for i in range(4)],psi_features=[],responsivity_keys=[i for i in range(4)])\n",
    "               "
   ]
  },
  {
   "cell_type": "code",
   "execution_count": 36,
   "metadata": {},
   "outputs": [],
   "source": [
    "users  = [int(np.random.random()*10) for i in range(100)]"
   ]
  },
  {
   "cell_type": "code",
   "execution_count": 10,
   "metadata": {
    "collapsed": true
   },
   "outputs": [],
   "source": [
    "#result = pyreadr.read_r('../../data/usertest/history.RData')\n",
    "#result['data.history']"
   ]
  },
  {
   "cell_type": "code",
   "execution_count": 39,
   "metadata": {},
   "outputs": [],
   "source": [
    "y = [np.random.normal(0,1.33) for i in range(100)]"
   ]
  },
  {
   "cell_type": "code",
   "execution_count": 40,
   "metadata": {
    "collapsed": true
   },
   "outputs": [],
   "source": [
    "def new_form(X):\n",
    "    to_return = []\n",
    "    for x in X:\n",
    "        intercept = [1]\n",
    "        base = intercept+x\n",
    "        second = [.6*base[i] for i in range(len(base)) ]\n",
    "        third = [int(np.random.random()>.5)-.6*base[i] for i in range(len(base)) ]\n",
    "        to_return.append(base+second+third)\n",
    "    return to_return\n",
    "    \n",
    "    "
   ]
  },
  {
   "cell_type": "code",
   "execution_count": 42,
   "metadata": {},
   "outputs": [],
   "source": [
    "to_test_X = new_form(data)"
   ]
  },
  {
   "cell_type": "code",
   "execution_count": 44,
   "metadata": {},
   "outputs": [],
   "source": [
    "#to_test_X \n",
    "#will probably need to standardize"
   ]
  },
  {
   "cell_type": "code",
   "execution_count": 53,
   "metadata": {},
   "outputs": [],
   "source": [
    "temp_params = run_gpytorchkernel.run(np.array(to_test_X), users,np.array(y),glob)"
   ]
  },
  {
   "cell_type": "code",
   "execution_count": null,
   "metadata": {
    "collapsed": true
   },
   "outputs": [],
   "source": [
    "inv_term = simple_bandits.get_inv_term(temp_params['cov'],temp_data[0].shape[0],temp_params['noise'])\n",
    "global_policy_params.update_params(temp_params)\n",
    "global_policy_params.inv_term=inv_term"
   ]
  },
  {
   "cell_type": "code",
   "execution_count": 52,
   "metadata": {},
   "outputs": [],
   "source": [
    "def get_posterior_parameters_all():\n",
    "    pass"
   ]
  },
  {
   "cell_type": "code",
   "execution_count": null,
   "metadata": {
    "collapsed": true
   },
   "outputs": [],
   "source": []
  }
 ],
 "metadata": {
  "kernelspec": {
   "display_name": "Python 3",
   "language": "python",
   "name": "python3"
  },
  "language_info": {
   "codemirror_mode": {
    "name": "ipython",
    "version": 3
   },
   "file_extension": ".py",
   "mimetype": "text/x-python",
   "name": "python",
   "nbconvert_exporter": "python",
   "pygments_lexer": "ipython3",
   "version": "3.6.8"
  }
 },
 "nbformat": 4,
 "nbformat_minor": 2
}
