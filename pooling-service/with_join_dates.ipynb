{
 "cells": [
  {
   "cell_type": "code",
   "execution_count": 5,
   "metadata": {},
   "outputs": [],
   "source": [
    "import gpytorch\n",
    "import pyreadr\n",
    "from sklearn import preprocessing\n",
    "import R_to_python_functions_analysis as RPY\n",
    "#import hyperparameter_runner\n",
    "import json\n",
    "import pickle\n",
    "import sys\n",
    "import os\n",
    "import pandas as pd\n",
    "import numpy as np\n",
    "import matplotlib.pyplot as plt\n",
    "import datetime\n",
    "%matplotlib inline"
   ]
  },
  {
   "cell_type": "code",
   "execution_count": 6,
   "metadata": {},
   "outputs": [],
   "source": [
    "lookup = RPY.get_user_ids()\n",
    "rlookup = {v:k for k,v in lookup.items()}\n",
    "uls = lookup.keys()"
   ]
  },
  {
   "cell_type": "code",
   "execution_count": 41,
   "metadata": {},
   "outputs": [
    {
     "data": {
      "text/plain": [
       "Timestamp('2019-11-08 00:00:00')"
      ]
     },
     "execution_count": 41,
     "metadata": {},
     "output_type": "execute_result"
    }
   ],
   "source": [
    "pd.to_datetime('10/19/19')+datetime.timedelta(days=20)"
   ]
  },
  {
   "cell_type": "code",
   "execution_count": 3,
   "metadata": {},
   "outputs": [],
   "source": [
    "#x,y,locs,days = RPY.get_all_for_one_user('./data','10234')"
   ]
  },
  {
   "cell_type": "code",
   "execution_count": 4,
   "metadata": {},
   "outputs": [],
   "source": [
    "#new_days = [dates[10234]+datetime.timedelta(days=(days[i]-1)) for i in range(len(days))]"
   ]
  },
  {
   "cell_type": "code",
   "execution_count": 7,
   "metadata": {},
   "outputs": [],
   "source": [
    "def get_user_policy_date_specific(user_id,date):\n",
    "    \n",
    "    day = date.day\n",
    "    if day<10:\n",
    "        day='0{}'.format(day)\n",
    "    else:\n",
    "        day=str(day)\n",
    "        \n",
    "    formatted_date = '{}-{}-{}'.format(date.year,date.month,day)\n",
    "    #print(formatted_date)\n",
    "    if formatted_date == '2019-10-25':\n",
    "        formatted_date = '2019-10-24'\n",
    "    try:\n",
    "        with open('data/test_{}.pkl'.format(formatted_date),'rb') as f:\n",
    "            test = pickle.load(f)\n",
    "    \n",
    "    #print(test.keys())\n",
    "        user_id = lookup[str(user_id)]\n",
    "        if user_id in test:\n",
    "            return test[user_id]\n",
    "        else:\n",
    "            return 'not found'\n",
    "    except:\n",
    "        return 'no file'"
   ]
  },
  {
   "cell_type": "code",
   "execution_count": 8,
   "metadata": {},
   "outputs": [],
   "source": [
    "def plot(user_id):\n",
    "    \n",
    "    dates = join_dates()\n",
    "    x,y,locs,days,probs = RPY.get_all_for_one_user('./data',str(user_id))\n",
    "    udates = [dates[user_id]+datetime.timedelta(days=(days[i]-1)) for i in range(len(days))]\n",
    "    ##skip prior for now\n",
    "    to_plot_y = []\n",
    "    to_plot_dates = []\n",
    "    to_color_locs = []\n",
    "    yerrs = []\n",
    "    probsr = []\n",
    "    for i in range(len(x)):\n",
    "        if days[i]>7:\n",
    "            #-datetime.timedelta(days=(1))\n",
    "            policy = get_user_policy_date_specific(user_id,udates[i])\n",
    "            if type(policy)!=str:\n",
    "                effect = np.dot(x[i][-5:],policy[0])\n",
    "                std = np.dot(np.dot(x[i][-5:],policy[1]),x[i][-5:])\n",
    "                yerrs.append(std**.5)\n",
    "                to_plot_y.append(effect)\n",
    "                to_plot_dates.append(udates[i])\n",
    "                to_color_locs.append(locs[i])\n",
    "                probsr.append(probs[i])\n",
    "    return to_plot_y,to_plot_dates,to_color_locs,yerrs,probsr"
   ]
  },
  {
   "cell_type": "code",
   "execution_count": 9,
   "metadata": {},
   "outputs": [],
   "source": [
    "def join_dates():\n",
    "    dates = pd.DataFrame.from_csv('join_dates.csv')\n",
    "    return {i:pd.to_datetime(r) for i,r in dates['join_date'].iteritems() }"
   ]
  },
  {
   "cell_type": "code",
   "execution_count": 8,
   "metadata": {},
   "outputs": [],
   "source": [
    "#x,y,locs,days,yerr = RPY.get_all_for_one_user('./data',str(10152))"
   ]
  },
  {
   "cell_type": "code",
   "execution_count": 10,
   "metadata": {},
   "outputs": [],
   "source": [
    "dates=join_dates()"
   ]
  },
  {
   "cell_type": "code",
   "execution_count": 10,
   "metadata": {},
   "outputs": [],
   "source": [
    "#dates[10152]+datetime.timedelta(days=23)"
   ]
  },
  {
   "cell_type": "code",
   "execution_count": null,
   "metadata": {},
   "outputs": [],
   "source": []
  },
  {
   "cell_type": "code",
   "execution_count": 11,
   "metadata": {},
   "outputs": [],
   "source": [
    "def get_xticks(labels):\n",
    "    seen = set([])\n",
    "    to_plot = []\n",
    "    for l in labels:\n",
    "        if l not in seen:\n",
    "            seen.add(l)\n",
    "            to_plot.append(str(l.date()))\n",
    "        else:\n",
    "            to_plot.append('')\n",
    "    return to_plot"
   ]
  },
  {
   "cell_type": "code",
   "execution_count": 12,
   "metadata": {},
   "outputs": [],
   "source": [
    "def plot_a_user(probs,timelabels,colors,yerr,uid,real_probs):\n",
    "    timelabels=get_xticks(timelabels)\n",
    "    clocs = ['r' if l==0 else 'b' for l in colors]\n",
    "    labels = ['Home/work' if l==0 else 'Other' for l in colors]\n",
    "    x=plt.scatter([i for i in range(len(probs)) if clocs[i]=='r'],[probs[i] for i in range(len(probs)) if clocs[i]=='r'],c='r' ,label='Home/work')\n",
    "    y=plt.scatter([i for i in range(len(probs)) if clocs[i]=='b'],[probs[i] for i in range(len(probs)) if clocs[i]=='b'],c='b',label='Other' )\n",
    "    #x=plt.scatter([i for i in range(len(probs))],probs,c=clocs )\n",
    "    plt.errorbar([i for i in range(len(probs))],probs,yerr=yerr)\n",
    "    plt.ylabel('Posterior mean of treatment effect')\n",
    "    plt.xlabel('Date')\n",
    "    z= plt.plot([i for i in range(len(real_probs))],real_probs,c='g',label='Probabilities')\n",
    "    #plt.legend((x,y,z),('Home/work','Other','P'))\n",
    "    plt.legend()\n",
    "    plt.title('User {}'.format(uid))\n",
    "    \n",
    "    plt.xticks([i for i in range(len(probs))],timelabels,rotation = 45,)\n",
    "    plt.tight_layout()\n",
    "    #plt.savefig('plots_11_7/participant_treatment_effect_{}'.format(uid))\n",
    "    plt.show()\n",
    "    "
   ]
  },
  {
   "cell_type": "code",
   "execution_count": 36,
   "metadata": {},
   "outputs": [],
   "source": [
    "with open('data/test_2019-11-07.pkl','rb') as f:\n",
    "    t = pickle.load(f)"
   ]
  },
  {
   "cell_type": "code",
   "execution_count": 31,
   "metadata": {},
   "outputs": [
    {
     "data": {
      "text/plain": [
       "{'10237': 0,\n",
       " '10271': 1,\n",
       " '10041': 2,\n",
       " '10355': 3,\n",
       " '10062': 4,\n",
       " '10374': 5,\n",
       " '10215': 6,\n",
       " '10313': 7,\n",
       " '10395': 8,\n",
       " '10152': 9,\n",
       " '10194': 10,\n",
       " '10259': 11,\n",
       " '10339': 12,\n",
       " '10360': 13,\n",
       " '10269': 14,\n",
       " '10234': 15,\n",
       " '10365': 16,\n",
       " '10352': 17,\n",
       " '10336': 18,\n",
       " '10304': 19}"
      ]
     },
     "execution_count": 31,
     "metadata": {},
     "output_type": "execute_result"
    }
   ],
   "source": [
    "lookup"
   ]
  },
  {
   "cell_type": "code",
   "execution_count": 22,
   "metadata": {},
   "outputs": [],
   "source": [
    "x,y,locs,days,probs,actions = RPY.get_all_for_one_user('./data',str(10304))"
   ]
  },
  {
   "cell_type": "code",
   "execution_count": 23,
   "metadata": {},
   "outputs": [
    {
     "data": {
      "text/plain": [
       "Timestamp('2019-12-06 00:00:00')"
      ]
     },
     "execution_count": 23,
     "metadata": {},
     "output_type": "execute_result"
    }
   ],
   "source": [
    "dates[10304]+datetime.timedelta(days=days[-1])"
   ]
  },
  {
   "cell_type": "code",
   "execution_count": 12,
   "metadata": {},
   "outputs": [
    {
     "ename": "ValueError",
     "evalue": "too many values to unpack (expected 5)",
     "output_type": "error",
     "traceback": [
      "\u001b[0;31m---------------------------------------------------------------------------\u001b[0m",
      "\u001b[0;31mValueError\u001b[0m                                Traceback (most recent call last)",
      "\u001b[0;32m<ipython-input-12-6a973a6b1492>\u001b[0m in \u001b[0;36m<module>\u001b[0;34m\u001b[0m\n\u001b[1;32m      2\u001b[0m     \u001b[0;31m#[10365,10336,10339,10259,10234,10269,10304,10360]\u001b[0m\u001b[0;34m\u001b[0m\u001b[0;34m\u001b[0m\u001b[0;34m\u001b[0m\u001b[0m\n\u001b[1;32m      3\u001b[0m     \u001b[0;32mif\u001b[0m \u001b[0mint\u001b[0m\u001b[0;34m(\u001b[0m\u001b[0mu\u001b[0m\u001b[0;34m)\u001b[0m \u001b[0;32min\u001b[0m \u001b[0mdates\u001b[0m\u001b[0;34m:\u001b[0m\u001b[0;34m\u001b[0m\u001b[0;34m\u001b[0m\u001b[0m\n\u001b[0;32m----> 4\u001b[0;31m         \u001b[0my\u001b[0m\u001b[0;34m,\u001b[0m\u001b[0mlabels\u001b[0m\u001b[0;34m,\u001b[0m\u001b[0mcolors\u001b[0m\u001b[0;34m,\u001b[0m\u001b[0myerr\u001b[0m\u001b[0;34m,\u001b[0m\u001b[0mreal_probs\u001b[0m \u001b[0;34m=\u001b[0m \u001b[0mplot\u001b[0m\u001b[0;34m(\u001b[0m\u001b[0mint\u001b[0m\u001b[0;34m(\u001b[0m\u001b[0mu\u001b[0m\u001b[0;34m)\u001b[0m\u001b[0;34m)\u001b[0m\u001b[0;34m\u001b[0m\u001b[0;34m\u001b[0m\u001b[0m\n\u001b[0m\u001b[1;32m      5\u001b[0m         \u001b[0mplot_a_user\u001b[0m\u001b[0;34m(\u001b[0m\u001b[0my\u001b[0m\u001b[0;34m,\u001b[0m\u001b[0mlabels\u001b[0m\u001b[0;34m,\u001b[0m\u001b[0mcolors\u001b[0m\u001b[0;34m,\u001b[0m\u001b[0myerr\u001b[0m\u001b[0;34m,\u001b[0m\u001b[0mstr\u001b[0m\u001b[0;34m(\u001b[0m\u001b[0mu\u001b[0m\u001b[0;34m)\u001b[0m\u001b[0;34m,\u001b[0m\u001b[0mreal_probs\u001b[0m\u001b[0;34m)\u001b[0m\u001b[0;34m\u001b[0m\u001b[0;34m\u001b[0m\u001b[0m\n",
      "\u001b[0;32m<ipython-input-4-2d5d5366738d>\u001b[0m in \u001b[0;36mplot\u001b[0;34m(user_id)\u001b[0m\n\u001b[1;32m      2\u001b[0m \u001b[0;34m\u001b[0m\u001b[0m\n\u001b[1;32m      3\u001b[0m     \u001b[0mdates\u001b[0m \u001b[0;34m=\u001b[0m \u001b[0mjoin_dates\u001b[0m\u001b[0;34m(\u001b[0m\u001b[0;34m)\u001b[0m\u001b[0;34m\u001b[0m\u001b[0;34m\u001b[0m\u001b[0m\n\u001b[0;32m----> 4\u001b[0;31m     \u001b[0mx\u001b[0m\u001b[0;34m,\u001b[0m\u001b[0my\u001b[0m\u001b[0;34m,\u001b[0m\u001b[0mlocs\u001b[0m\u001b[0;34m,\u001b[0m\u001b[0mdays\u001b[0m\u001b[0;34m,\u001b[0m\u001b[0mprobs\u001b[0m \u001b[0;34m=\u001b[0m \u001b[0mRPY\u001b[0m\u001b[0;34m.\u001b[0m\u001b[0mget_all_for_one_user\u001b[0m\u001b[0;34m(\u001b[0m\u001b[0;34m'./data'\u001b[0m\u001b[0;34m,\u001b[0m\u001b[0mstr\u001b[0m\u001b[0;34m(\u001b[0m\u001b[0muser_id\u001b[0m\u001b[0;34m)\u001b[0m\u001b[0;34m)\u001b[0m\u001b[0;34m\u001b[0m\u001b[0;34m\u001b[0m\u001b[0m\n\u001b[0m\u001b[1;32m      5\u001b[0m     \u001b[0mudates\u001b[0m \u001b[0;34m=\u001b[0m \u001b[0;34m[\u001b[0m\u001b[0mdates\u001b[0m\u001b[0;34m[\u001b[0m\u001b[0muser_id\u001b[0m\u001b[0;34m]\u001b[0m\u001b[0;34m+\u001b[0m\u001b[0mdatetime\u001b[0m\u001b[0;34m.\u001b[0m\u001b[0mtimedelta\u001b[0m\u001b[0;34m(\u001b[0m\u001b[0mdays\u001b[0m\u001b[0;34m=\u001b[0m\u001b[0;34m(\u001b[0m\u001b[0mdays\u001b[0m\u001b[0;34m[\u001b[0m\u001b[0mi\u001b[0m\u001b[0;34m]\u001b[0m\u001b[0;34m-\u001b[0m\u001b[0;36m1\u001b[0m\u001b[0;34m)\u001b[0m\u001b[0;34m)\u001b[0m \u001b[0;32mfor\u001b[0m \u001b[0mi\u001b[0m \u001b[0;32min\u001b[0m \u001b[0mrange\u001b[0m\u001b[0;34m(\u001b[0m\u001b[0mlen\u001b[0m\u001b[0;34m(\u001b[0m\u001b[0mdays\u001b[0m\u001b[0;34m)\u001b[0m\u001b[0;34m)\u001b[0m\u001b[0;34m]\u001b[0m\u001b[0;34m\u001b[0m\u001b[0;34m\u001b[0m\u001b[0m\n\u001b[1;32m      6\u001b[0m     \u001b[0;31m##skip prior for now\u001b[0m\u001b[0;34m\u001b[0m\u001b[0;34m\u001b[0m\u001b[0;34m\u001b[0m\u001b[0m\n",
      "\u001b[0;31mValueError\u001b[0m: too many values to unpack (expected 5)"
     ]
    }
   ],
   "source": [
    "for u in uls:\n",
    "    #[10365,10336,10339,10259,10234,10269,10304,10360]\n",
    "    if int(u) in dates:\n",
    "        y,labels,colors,yerr,real_probs = plot(int(u))\n",
    "        plot_a_user(y,labels,colors,yerr,str(u),real_probs)"
   ]
  },
  {
   "cell_type": "code",
   "execution_count": 37,
   "metadata": {},
   "outputs": [
    {
     "data": {
      "text/plain": [
       "[0.09767884019317181,\n",
       " 0.09753244667755713,\n",
       " 0.8110590014595247,\n",
       " 0.09511803451169103,\n",
       " 1.4464747454516478,\n",
       " 0.08958449611977609,\n",
       " 0.82213081378225,\n",
       " 0.6905441877646243]"
      ]
     },
     "execution_count": 37,
     "metadata": {},
     "output_type": "execute_result"
    }
   ],
   "source": [
    "yerr"
   ]
  },
  {
   "cell_type": "code",
   "execution_count": 14,
   "metadata": {},
   "outputs": [],
   "source": [
    "def get_all_probs_all_locs():\n",
    "    ap=[]\n",
    "    al=[]\n",
    "    for k,v in lookup.items():\n",
    "        if v in by_users:\n",
    "            probs,locs = get_f_and_loc( k,by_users)\n",
    "            ap.extend(probs)\n",
    "            al.extend(locs)\n",
    "    return ap,al"
   ]
  },
  {
   "cell_type": "code",
   "execution_count": 15,
   "metadata": {},
   "outputs": [
    {
     "ename": "NameError",
     "evalue": "name 'by_users' is not defined",
     "output_type": "error",
     "traceback": [
      "\u001b[0;31m---------------------------------------------------------------------------\u001b[0m",
      "\u001b[0;31mNameError\u001b[0m                                 Traceback (most recent call last)",
      "\u001b[0;32m<ipython-input-15-d865c2f6477e>\u001b[0m in \u001b[0;36m<module>\u001b[0;34m\u001b[0m\n\u001b[0;32m----> 1\u001b[0;31m \u001b[0map\u001b[0m\u001b[0;34m,\u001b[0m\u001b[0mal\u001b[0m \u001b[0;34m=\u001b[0m \u001b[0mget_all_probs_all_locs\u001b[0m\u001b[0;34m(\u001b[0m\u001b[0;34m)\u001b[0m\u001b[0;34m\u001b[0m\u001b[0;34m\u001b[0m\u001b[0m\n\u001b[0m",
      "\u001b[0;32m<ipython-input-14-a9f1defbc287>\u001b[0m in \u001b[0;36mget_all_probs_all_locs\u001b[0;34m()\u001b[0m\n\u001b[1;32m      3\u001b[0m     \u001b[0mal\u001b[0m\u001b[0;34m=\u001b[0m\u001b[0;34m[\u001b[0m\u001b[0;34m]\u001b[0m\u001b[0;34m\u001b[0m\u001b[0;34m\u001b[0m\u001b[0m\n\u001b[1;32m      4\u001b[0m     \u001b[0;32mfor\u001b[0m \u001b[0mk\u001b[0m\u001b[0;34m,\u001b[0m\u001b[0mv\u001b[0m \u001b[0;32min\u001b[0m \u001b[0mlookup\u001b[0m\u001b[0;34m.\u001b[0m\u001b[0mitems\u001b[0m\u001b[0;34m(\u001b[0m\u001b[0;34m)\u001b[0m\u001b[0;34m:\u001b[0m\u001b[0;34m\u001b[0m\u001b[0;34m\u001b[0m\u001b[0m\n\u001b[0;32m----> 5\u001b[0;31m         \u001b[0;32mif\u001b[0m \u001b[0mv\u001b[0m \u001b[0;32min\u001b[0m \u001b[0mby_users\u001b[0m\u001b[0;34m:\u001b[0m\u001b[0;34m\u001b[0m\u001b[0;34m\u001b[0m\u001b[0m\n\u001b[0m\u001b[1;32m      6\u001b[0m             \u001b[0mprobs\u001b[0m\u001b[0;34m,\u001b[0m\u001b[0mlocs\u001b[0m \u001b[0;34m=\u001b[0m \u001b[0mget_f_and_loc\u001b[0m\u001b[0;34m(\u001b[0m \u001b[0mk\u001b[0m\u001b[0;34m,\u001b[0m\u001b[0mby_users\u001b[0m\u001b[0;34m)\u001b[0m\u001b[0;34m\u001b[0m\u001b[0;34m\u001b[0m\u001b[0m\n\u001b[1;32m      7\u001b[0m             \u001b[0map\u001b[0m\u001b[0;34m.\u001b[0m\u001b[0mextend\u001b[0m\u001b[0;34m(\u001b[0m\u001b[0mprobs\u001b[0m\u001b[0;34m)\u001b[0m\u001b[0;34m\u001b[0m\u001b[0;34m\u001b[0m\u001b[0m\n",
      "\u001b[0;31mNameError\u001b[0m: name 'by_users' is not defined"
     ]
    }
   ],
   "source": [
    "ap,al = get_all_probs_all_locs()"
   ]
  },
  {
   "cell_type": "code",
   "execution_count": 101,
   "metadata": {},
   "outputs": [
    {
     "data": {
      "text/plain": [
       "0.6948529411764706"
      ]
     },
     "execution_count": 101,
     "metadata": {},
     "output_type": "execute_result"
    }
   ],
   "source": [
    "np.mean(np.array([int(ap[i]>0) for i in range(len(ap)) if al[i]==0]))"
   ]
  },
  {
   "cell_type": "code",
   "execution_count": 102,
   "metadata": {},
   "outputs": [
    {
     "data": {
      "text/plain": [
       "0.5569620253164557"
      ]
     },
     "execution_count": 102,
     "metadata": {},
     "output_type": "execute_result"
    }
   ],
   "source": [
    "np.mean(np.array([int(ap[i]>0)  for i in range(len(ap)) if al[i]==1]))"
   ]
  },
  {
   "cell_type": "code",
   "execution_count": 43,
   "metadata": {},
   "outputs": [
    {
     "data": {
      "text/plain": [
       "1.5999999999999999"
      ]
     },
     "execution_count": 43,
     "metadata": {},
     "output_type": "execute_result"
    }
   ],
   "source": [
    "(5*(-2)+0*1) * .05 +((4*(-1)+1*1) * .05) +((3*(-2)+2*1) * .05)+((2*(-2)+3*1) * .05)+((1*(-2)+4*1) * .5)+(0*(-2)+5*1) * .3"
   ]
  },
  {
   "cell_type": "code",
   "execution_count": null,
   "metadata": {},
   "outputs": [],
   "source": []
  }
 ],
 "metadata": {
  "kernelspec": {
   "display_name": "Python 3",
   "language": "python",
   "name": "python3"
  },
  "language_info": {
   "codemirror_mode": {
    "name": "ipython",
    "version": 3
   },
   "file_extension": ".py",
   "mimetype": "text/x-python",
   "name": "python",
   "nbconvert_exporter": "python",
   "pygments_lexer": "ipython3",
   "version": "3.6.8"
  }
 },
 "nbformat": 4,
 "nbformat_minor": 2
}
