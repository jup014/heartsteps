{
 "cells": [
  {
   "cell_type": "code",
   "execution_count": 1,
   "metadata": {},
   "outputs": [],
   "source": [
    "import gpytorch\n",
    "import pyreadr\n",
    "from sklearn import preprocessing\n",
    "import R_to_python_functions as RPY\n",
    "#import hyperparameter_runner\n",
    "import json\n",
    "import pickle\n",
    "import sys\n",
    "import os\n",
    "import pandas as pd\n",
    "import numpy as np"
   ]
  },
  {
   "cell_type": "code",
   "execution_count": 3,
   "metadata": {},
   "outputs": [],
   "source": [
    "k={'10195':0,'10075':1,'10237':2,'10041':3,'10271':4,'10355':5,'10374':6,'10062':7,'10313':8,'10215':9,'10395':10,'10152':11,'10194':12}\n",
    "uls = list(k.keys())"
   ]
  },
  {
   "cell_type": "code",
   "execution_count": 3,
   "metadata": {},
   "outputs": [],
   "source": [
    "uls = lookup.keys()"
   ]
  },
  {
   "cell_type": "code",
   "execution_count": 4,
   "metadata": {},
   "outputs": [],
   "source": [
    "#uls = [ \"10032\",\"10006\",\"10157\",\"10075\",\"10142\",\"10055\",\"10101\",\"test-pedja\"]"
   ]
  },
  {
   "cell_type": "code",
   "execution_count": 36,
   "metadata": {},
   "outputs": [
    {
     "name": "stdout",
     "output_type": "stream",
     "text": [
      "10041\n",
      "197\n",
      "10365\n",
      "50\n",
      "10336\n",
      "18\n",
      "10355\n",
      "128\n",
      "10194\n",
      "57\n",
      "10352\n",
      "14\n",
      "10339\n",
      "51\n",
      "10313\n",
      "93\n",
      "10062\n",
      "144\n",
      "10259\n",
      "35\n",
      "10234\n",
      "50\n",
      "10269\n",
      "51\n",
      "10215\n",
      "10271\n",
      "182\n",
      "10304\n",
      "25\n",
      "10395\n",
      "40\n",
      "10360\n",
      "49\n",
      "10152\n",
      "87\n",
      "10374\n",
      "81\n",
      "10237\n",
      "216\n"
     ]
    }
   ],
   "source": [
    "X = RPY.combine_users('./data',uls)"
   ]
  },
  {
   "cell_type": "code",
   "execution_count": 37,
   "metadata": {},
   "outputs": [],
   "source": [
    "lookup = RPY.get_user_ids()\n",
    "rlookup = {v:k for k,v in lookup.items()}"
   ]
  },
  {
   "cell_type": "code",
   "execution_count": 35,
   "metadata": {},
   "outputs": [],
   "source": [
    "with open('data/test.pkl','rb') as f:\n",
    "    test = pickle.load(f)"
   ]
  },
  {
   "cell_type": "code",
   "execution_count": null,
   "metadata": {},
   "outputs": [],
   "source": []
  },
  {
   "cell_type": "code",
   "execution_count": 8,
   "metadata": {},
   "outputs": [],
   "source": [
    "def get_user_policy(user_id):\n",
    "    username = lookup[user_id]\n",
    "    #file_path = 'data/user{}_pooled_params/mu_beta.csv'.format(username)\n",
    "    return test[username][0]\n",
    "#np.array(pd.read_csv(file_path)['x'])"
   ]
  },
  {
   "cell_type": "code",
   "execution_count": 38,
   "metadata": {},
   "outputs": [],
   "source": [
    "user_data = {}\n",
    "for i in range(len(X[0])):\n",
    "    if X[0][i] not in user_data:\n",
    "        user_data[X[0][i]]=[]\n",
    "    user_data[X[0][i]].append(X[1][i])"
   ]
  },
  {
   "cell_type": "code",
   "execution_count": 39,
   "metadata": {},
   "outputs": [],
   "source": [
    "def get_probabilities(user_id):\n",
    "    probs = []\n",
    "    policy = get_user_policy(user_id)\n",
    "    for data in user_data[lookup[user_id]]:\n",
    "        probs.append(np.dot(data[-5:],policy))\n",
    "    return probs"
   ]
  },
  {
   "cell_type": "code",
   "execution_count": 40,
   "metadata": {},
   "outputs": [],
   "source": [
    "in_pool = []\n",
    "not_pool = []\n",
    "for i in lookup:\n",
    "    if lookup[i] in user_data:\n",
    "        if lookup[i]>9:\n",
    "            in_pool.extend(get_probabilities(i))\n",
    "        else:\n",
    "            not_pool.extend(get_probabilities(i))"
   ]
  },
  {
   "cell_type": "code",
   "execution_count": 30,
   "metadata": {},
   "outputs": [
    {
     "data": {
      "text/plain": [
       "0.7833333333333333"
      ]
     },
     "execution_count": 30,
     "metadata": {},
     "output_type": "execute_result"
    }
   ],
   "source": [
    "len([i for i in in_pool if i>=0])/len(in_pool)"
   ]
  },
  {
   "cell_type": "code",
   "execution_count": 31,
   "metadata": {},
   "outputs": [
    {
     "data": {
      "text/plain": [
       "0.5972696245733788"
      ]
     },
     "execution_count": 31,
     "metadata": {},
     "output_type": "execute_result"
    }
   ],
   "source": [
    "len([i for i in not_pool if i>=0])/len(not_pool)"
   ]
  },
  {
   "cell_type": "code",
   "execution_count": 44,
   "metadata": {},
   "outputs": [
    {
     "data": {
      "text/plain": [
       "0.2497320471597"
      ]
     },
     "execution_count": 44,
     "metadata": {},
     "output_type": "execute_result"
    }
   ],
   "source": [
    "(.933-.70)/.933\n"
   ]
  },
  {
   "cell_type": "code",
   "execution_count": 47,
   "metadata": {},
   "outputs": [
    {
     "data": {
      "text/plain": [
       "0.2828146143437077"
      ]
     },
     "execution_count": 47,
     "metadata": {},
     "output_type": "execute_result"
    }
   ],
   "source": [
    "(1.478-1.06)/1.478"
   ]
  },
  {
   "cell_type": "code",
   "execution_count": null,
   "metadata": {},
   "outputs": [],
   "source": []
  }
 ],
 "metadata": {
  "kernelspec": {
   "display_name": "Python 3",
   "language": "python",
   "name": "python3"
  },
  "language_info": {
   "codemirror_mode": {
    "name": "ipython",
    "version": 3
   },
   "file_extension": ".py",
   "mimetype": "text/x-python",
   "name": "python",
   "nbconvert_exporter": "python",
   "pygments_lexer": "ipython3",
   "version": "3.6.8"
  }
 },
 "nbformat": 4,
 "nbformat_minor": 2
}
