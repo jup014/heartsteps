{
 "cells": [
  {
   "cell_type": "code",
   "execution_count": 1,
   "metadata": {},
   "outputs": [],
   "source": [
    "import gpytorch\n",
    "import pyreadr\n",
    "from sklearn import preprocessing\n",
    "import R_to_python_functions as RPY\n",
    "#import hyperparameter_runner\n",
    "import json\n",
    "import pickle\n",
    "import sys\n",
    "import os\n",
    "import pandas as pd\n",
    "import numpy as np"
   ]
  },
  {
   "cell_type": "code",
   "execution_count": 3,
   "metadata": {},
   "outputs": [],
   "source": [
    "uls = [ \"10032\",\"10006\",\"10157\",\"10075\",\"10142\",\"10055\",\"10101\",\"test-pedja\"]"
   ]
  },
  {
   "cell_type": "code",
   "execution_count": 4,
   "metadata": {},
   "outputs": [],
   "source": [
    "X = RPY.combine_users('./data',uls)"
   ]
  },
  {
   "cell_type": "code",
   "execution_count": 7,
   "metadata": {},
   "outputs": [],
   "source": [
    "lookup = RPY.get_user_ids()\n",
    "rlookup = {v:k for k,v in lookup.items()}"
   ]
  },
  {
   "cell_type": "code",
   "execution_count": 18,
   "metadata": {},
   "outputs": [],
   "source": [
    "def get_user_policy(user_id):\n",
    "    username = rlookup[user_id]\n",
    "    file_path = 'data/user{}_pooled_params/mu_beta.csv'.format(username)\n",
    "    return np.array(pd.read_csv(file_path)['x'])"
   ]
  },
  {
   "cell_type": "code",
   "execution_count": 14,
   "metadata": {},
   "outputs": [],
   "source": [
    "user_data = {}\n",
    "for i in range(len(X[0])):\n",
    "    if X[0][i] not in user_data:\n",
    "        user_data[X[0][i]]=[]\n",
    "    user_data[X[0][i]].append(X[1][i])"
   ]
  },
  {
   "cell_type": "code",
   "execution_count": 16,
   "metadata": {},
   "outputs": [],
   "source": [
    "def get_probabilities(user_id):\n",
    "    probs = []\n",
    "    policy = get_user_policy(user_id)\n",
    "    for data in user_data[user_id]:\n",
    "        probs.append(np.dot(data[-5:],policy))\n",
    "    return probs"
   ]
  },
  {
   "cell_type": "code",
   "execution_count": 20,
   "metadata": {},
   "outputs": [
    {
     "data": {
      "text/plain": [
       "[1.2387706699365724,\n",
       " 1.0514144297411763,\n",
       " -2.9681081989871805,\n",
       " 1.4460893504881913,\n",
       " 1.8350710824386132,\n",
       " -6.390938098128904,\n",
       " 1.693541852551436,\n",
       " 2.0948951129152786,\n",
       " 2.113281430079055,\n",
       " 2.509944484370108,\n",
       " 2.8704776131430174,\n",
       " 3.0605730631475607,\n",
       " 2.7257793309860143,\n",
       " 2.5801594914626804,\n",
       " 2.4648474240868397,\n",
       " 2.3075300263918814,\n",
       " 2.1826792164805635,\n",
       " 1.9542618034736705,\n",
       " 1.8472178403259543,\n",
       " 2.2352933122111147,\n",
       " 2.114054338008835,\n",
       " 3.889163791922576,\n",
       " -6.830344135800287,\n",
       " -4.9624369682252905,\n",
       " -5.262451656246533,\n",
       " 2.713583811465541,\n",
       " 3.1061812888971403,\n",
       " -12.854121206015368,\n",
       " 3.040447939866927,\n",
       " 3.0646040389737954,\n",
       " 3.096042195989267,\n",
       " 3.917846941643603,\n",
       " 1.5954422145374534,\n",
       " 1.5134968828421862,\n",
       " 3.7041698209870595,\n",
       " 3.0039530483672054,\n",
       " -7.075107653028354,\n",
       " 3.651419914526855,\n",
       " 1.4699500633871825,\n",
       " 1.5837310274175802,\n",
       " 1.6324346738107058,\n",
       " 5.8861431246162566,\n",
       " -11.174535498682674,\n",
       " 5.892906960057489,\n",
       " 2.0084245783673857,\n",
       " 1.9053611109538566,\n",
       " 1.8188693511908878,\n",
       " 1.9211905398863798,\n",
       " 1.8153596156452398,\n",
       " 2.0141925276574195,\n",
       " 2.195822320849672,\n",
       " 1.9836622757156135,\n",
       " 1.8692511730588601,\n",
       " 1.9603604684429259,\n",
       " 1.8574626108896373,\n",
       " 1.679328242636413,\n",
       " 1.7891443966101317,\n",
       " 1.7851662451446602,\n",
       " 1.7473979576472256,\n",
       " 1.4952494119211572,\n",
       " 1.615368100048431,\n",
       " 1.4108360940730946,\n",
       " 1.5839426357275208,\n",
       " 1.3085894014469153,\n",
       " 1.3091670963826296,\n",
       " 1.430432202368388,\n",
       " 1.959785863592113,\n",
       " 2.058915324771821,\n",
       " 2.1519982021980906,\n",
       " 1.94017819223139,\n",
       " 1.936212293943582,\n",
       " 1.6869214128929237,\n",
       " 1.8950888559340733,\n",
       " 1.795454579006227,\n",
       " 1.6184465596867248,\n",
       " 1.7333374202699596,\n",
       " 1.6440283107613014,\n",
       " 1.5661577731606244,\n",
       " 1.476457469542329,\n",
       " 1.5112789611078166,\n",
       " 1.5450471956508554,\n",
       " 1.6647663082552653,\n",
       " 1.7759401340390677,\n",
       " 1.682263293205972,\n",
       " 1.595507890050513,\n",
       " 1.7770066297468312,\n",
       " 1.5138983580175618,\n",
       " 1.4344710909270704,\n",
       " 1.5549220819413003]"
      ]
     },
     "execution_count": 20,
     "metadata": {},
     "output_type": "execute_result"
    }
   ],
   "source": [
    "get_probabilities(11)"
   ]
  },
  {
   "cell_type": "code",
   "execution_count": null,
   "metadata": {},
   "outputs": [],
   "source": []
  }
 ],
 "metadata": {
  "kernelspec": {
   "display_name": "Python 3",
   "language": "python",
   "name": "python3"
  },
  "language_info": {
   "codemirror_mode": {
    "name": "ipython",
    "version": 3
   },
   "file_extension": ".py",
   "mimetype": "text/x-python",
   "name": "python",
   "nbconvert_exporter": "python",
   "pygments_lexer": "ipython3",
   "version": "3.6.8"
  }
 },
 "nbformat": 4,
 "nbformat_minor": 2
}
