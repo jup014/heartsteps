{
 "cells": [
  {
   "cell_type": "code",
   "execution_count": 4,
   "metadata": {},
   "outputs": [],
   "source": [
    "import gpytorch\n",
    "import pyreadr\n",
    "from sklearn import preprocessing\n",
    "import R_to_python_functions as RPY\n",
    "#import hyperparameter_runner\n",
    "import json\n",
    "import pickle\n",
    "import sys\n",
    "import os\n",
    "import pandas as pd\n",
    "import numpy as np"
   ]
  },
  {
   "cell_type": "code",
   "execution_count": 17,
   "metadata": {},
   "outputs": [],
   "source": [
    "def update_params(users,g,lookup):\n",
    "    for u in users:\n",
    "        data_path = 'data/{}/temp_policy.Rdata'.format('user'+u+'_pooled_params')\n",
    "        #print(data_path)\n",
    "        if lookup[u] in g:\n",
    "            mu = g[lookup[u]][0]\n",
    "            sigma = g[lookup[u]][1]\n",
    "        \n",
    "        pyreadr.write_rdata(data_path, pd.DataFrame({'mu':mu,'sigma':sigma}))\n",
    "        "
   ]
  },
  {
   "cell_type": "code",
   "execution_count": 6,
   "metadata": {},
   "outputs": [],
   "source": [
    "uls = ['10195',\n",
    " '10075',\n",
    " '10237',\n",
    " '10041',\n",
    " '10271',\n",
    " '10355',\n",
    " '10374',\n",
    " '10062',\n",
    " '10313',\n",
    " '10215',\n",
    " '10395',\n",
    " '10152',\n",
    " '10194']"
   ]
  },
  {
   "cell_type": "code",
   "execution_count": 15,
   "metadata": {},
   "outputs": [],
   "source": [
    "lookup = {v:k for k,v in RPY.get_user_ids().items()}\n",
    "lookup = RPY.get_user_ids()"
   ]
  },
  {
   "cell_type": "code",
   "execution_count": 18,
   "metadata": {},
   "outputs": [],
   "source": [
    "with open('../../heartsteps/pooling-service/data/test.pkl','rb') as f:\n",
    "    test2 = pickle.load(f)\n",
    "update_params(uls,test2,lookup)"
   ]
  },
  {
   "cell_type": "code",
   "execution_count": 12,
   "metadata": {},
   "outputs": [
    {
     "data": {
      "text/plain": [
       "dict_keys([0, 1, 2, 3, 4, 5, 6, 7, 10, 11])"
      ]
     },
     "execution_count": 12,
     "metadata": {},
     "output_type": "execute_result"
    }
   ],
   "source": [
    "test2.keys()"
   ]
  },
  {
   "cell_type": "code",
   "execution_count": 13,
   "metadata": {},
   "outputs": [
    {
     "data": {
      "text/plain": [
       "{0: '10195',\n",
       " 1: '10075',\n",
       " 2: '10237',\n",
       " 3: '10041',\n",
       " 4: '10271',\n",
       " 5: '10355',\n",
       " 6: '10374',\n",
       " 7: '10062',\n",
       " 8: '10313',\n",
       " 9: '10215',\n",
       " 10: '10395',\n",
       " 11: '10152',\n",
       " 12: '10194'}"
      ]
     },
     "execution_count": 13,
     "metadata": {},
     "output_type": "execute_result"
    }
   ],
   "source": [
    "lookup"
   ]
  },
  {
   "cell_type": "code",
   "execution_count": null,
   "metadata": {},
   "outputs": [],
   "source": []
  }
 ],
 "metadata": {
  "kernelspec": {
   "display_name": "Python 3",
   "language": "python",
   "name": "python3"
  },
  "language_info": {
   "codemirror_mode": {
    "name": "ipython",
    "version": 3
   },
   "file_extension": ".py",
   "mimetype": "text/x-python",
   "name": "python",
   "nbconvert_exporter": "python",
   "pygments_lexer": "ipython3",
   "version": "3.6.8"
  }
 },
 "nbformat": 4,
 "nbformat_minor": 2
}
