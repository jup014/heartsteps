{
 "cells": [
  {
   "cell_type": "code",
   "execution_count": 1,
   "metadata": {},
   "outputs": [],
   "source": [
    "import gpytorch\n",
    "import pyreadr\n",
    "from sklearn import preprocessing\n",
    "import R_to_python_functions as RPY\n",
    "#import hyperparameter_runner\n",
    "import json\n",
    "import pickle\n",
    "import sys\n",
    "import os\n",
    "import pandas as pd\n",
    "import numpy as np"
   ]
  },
  {
   "cell_type": "code",
   "execution_count": 2,
   "metadata": {},
   "outputs": [],
   "source": [
    "#and u[4:] in RPY.get_user_ids()\n",
    "users = [u for u in os.listdir('data') if 'user' in u and 'pooled' not in u and 'test' not in u  ]\n",
    "ul = {users[i].strip('user'):i for i in range(len(users))}"
   ]
  },
  {
   "cell_type": "code",
   "execution_count": 3,
   "metadata": {},
   "outputs": [],
   "source": [
    "result = pyreadr.read_r('data/{}/train.Rdata'.format(users[0]))"
   ]
  },
  {
   "cell_type": "code",
   "execution_count": 4,
   "metadata": {},
   "outputs": [],
   "source": [
    "uls = [u.strip('user') for u in users]\n"
   ]
  },
  {
   "cell_type": "code",
   "execution_count": 5,
   "metadata": {},
   "outputs": [
    {
     "data": {
      "text/plain": [
       "35"
      ]
     },
     "execution_count": 5,
     "metadata": {},
     "output_type": "execute_result"
    }
   ],
   "source": [
    "len(ul)"
   ]
  },
  {
   "cell_type": "code",
   "execution_count": 4,
   "metadata": {},
   "outputs": [],
   "source": [
    "X = RPY.combine_users('./data',uls)"
   ]
  },
  {
   "cell_type": "code",
   "execution_count": 9,
   "metadata": {},
   "outputs": [],
   "source": [
    "with open('../../test_new_gpytorch/train_v2_data.pkl','wb') as f:\n",
    "    pickle.dump(X,f)"
   ]
  },
  {
   "cell_type": "code",
   "execution_count": 5,
   "metadata": {},
   "outputs": [],
   "source": [
    "with open('../../Downloads/test_params_v2.pkl','rb') as f:\n",
    "    t = pickle.load(f)"
   ]
  },
  {
   "cell_type": "code",
   "execution_count": 131,
   "metadata": {},
   "outputs": [],
   "source": [
    "def update_params(users,g,lookup):\n",
    "    for u in users:\n",
    "        data_path = 'data/{}/temp_policy.Rdata'.format('user'+u+'_pooled_params')\n",
    "        #print(data_path)\n",
    "        \n",
    "        mu = g[lookup[u]][0]\n",
    "        sigma = g[lookup[u]][1]\n",
    "        \n",
    "        pyreadr.write_rdata(data_path, pd.DataFrame({'mu':mu,'sigma':sigma}))\n",
    "        "
   ]
  },
  {
   "cell_type": "code",
   "execution_count": 134,
   "metadata": {},
   "outputs": [],
   "source": [
    "update_params(['10110'],t,ul)"
   ]
  },
  {
   "cell_type": "code",
   "execution_count": 128,
   "metadata": {},
   "outputs": [
    {
     "data": {
      "text/plain": [
       "{7: (array([-0.07441015,  0.48257828,  0.14194783,  0.04942812,  0.29255771]),\n",
       "  [array([ 0.21038003, -0.03530982,  0.00111724, -0.04528562,  0.02498912]),\n",
       "   array([-0.03530982,  0.22338639, -0.03296164, -0.00360989,  0.02996328]),\n",
       "   array([ 0.00111724, -0.03296164,  0.19748262,  0.01748249,  0.00630283]),\n",
       "   array([-0.04528562, -0.00360989,  0.01748249,  0.88788516,  0.01023821]),\n",
       "   array([0.02498912, 0.02996328, 0.00630283, 0.01023821, 0.20387498])]),\n",
       " 23: (array([-0.07441015,  0.48257828,  0.14194783,  0.04942812,  0.29255771]),\n",
       "  [array([ 0.21038003, -0.03530982,  0.00111724, -0.04528562,  0.02498912]),\n",
       "   array([-0.03530982,  0.22338639, -0.03296164, -0.00360989,  0.02996328]),\n",
       "   array([ 0.00111724, -0.03296164,  0.19748262,  0.01748249,  0.00630283]),\n",
       "   array([-0.04528562, -0.00360989,  0.01748249,  0.88788516,  0.01023821]),\n",
       "   array([0.02498912, 0.02996328, 0.00630283, 0.01023821, 0.20387498])])}"
      ]
     },
     "execution_count": 128,
     "metadata": {},
     "output_type": "execute_result"
    }
   ],
   "source": [
    "t"
   ]
  },
  {
   "cell_type": "code",
   "execution_count": 9,
   "metadata": {},
   "outputs": [
    {
     "data": {
      "text/plain": [
       "'2019-09-25'"
      ]
     },
     "execution_count": 9,
     "metadata": {},
     "output_type": "execute_result"
    }
   ],
   "source": [
    "from datetime import date\n",
    "str(date.today())"
   ]
  },
  {
   "cell_type": "code",
   "execution_count": 6,
   "metadata": {},
   "outputs": [],
   "source": [
    "with open('pooled_init_params.pkl','wb') as f:\n",
    "    pickle.dump({'sigma_u':np.array([[1.5898, 0.0979],[ 0.0979,    0.6828]]),'noise_term':5.5440},f)"
   ]
  },
  {
   "cell_type": "code",
   "execution_count": 10,
   "metadata": {},
   "outputs": [],
   "source": [
    "with open('pooled_init_params_all.pkl','wb') as f:\n",
    "    pickle.dump({str(date.today()):{'sigma_u':np.array([[1.5898, 0.0979],[ 0.0979,    0.6828]]),'noise_term':5.5440}},f)"
   ]
  },
  {
   "cell_type": "code",
   "execution_count": 24,
   "metadata": {},
   "outputs": [
    {
     "ename": "EOFError",
     "evalue": "Ran out of input",
     "output_type": "error",
     "traceback": [
      "\u001b[0;31m---------------------------------------------------------------------------\u001b[0m",
      "\u001b[0;31mEOFError\u001b[0m                                  Traceback (most recent call last)",
      "\u001b[0;32m<ipython-input-24-5fc7e92599b4>\u001b[0m in \u001b[0;36m<module>\u001b[0;34m\u001b[0m\n\u001b[1;32m      1\u001b[0m \u001b[0;32mwith\u001b[0m \u001b[0mopen\u001b[0m\u001b[0;34m(\u001b[0m\u001b[0;34m'../../Downloads/pooled_hyper_pooled_init_params_2019-09-25.pkl'\u001b[0m\u001b[0;34m,\u001b[0m\u001b[0;34m'rb'\u001b[0m\u001b[0;34m)\u001b[0m \u001b[0;32mas\u001b[0m \u001b[0mf\u001b[0m\u001b[0;34m:\u001b[0m\u001b[0;34m\u001b[0m\u001b[0;34m\u001b[0m\u001b[0m\n\u001b[0;32m----> 2\u001b[0;31m     \u001b[0mtest\u001b[0m \u001b[0;34m=\u001b[0m \u001b[0mpickle\u001b[0m\u001b[0;34m.\u001b[0m\u001b[0mload\u001b[0m\u001b[0;34m(\u001b[0m\u001b[0mf\u001b[0m\u001b[0;34m)\u001b[0m\u001b[0;34m\u001b[0m\u001b[0;34m\u001b[0m\u001b[0m\n\u001b[0m",
      "\u001b[0;31mEOFError\u001b[0m: Ran out of input"
     ]
    }
   ],
   "source": [
    "with open('../../Downloads/pooled_hyper_pooled_init_params_2019-09-25.pkl','rb') as f:\n",
    "    test = pickle.load(f)"
   ]
  },
  {
   "cell_type": "code",
   "execution_count": 22,
   "metadata": {},
   "outputs": [
    {
     "data": {
      "text/plain": [
       "'/Users/sabina/heartsteps/pooling-service'"
      ]
     },
     "execution_count": 22,
     "metadata": {},
     "output_type": "execute_result"
    }
   ],
   "source": [
    "import os\n",
    "os.getcwd()"
   ]
  },
  {
   "cell_type": "code",
   "execution_count": 6,
   "metadata": {},
   "outputs": [],
   "source": [
    "s='s'\n",
    "c=s=='s'"
   ]
  },
  {
   "cell_type": "code",
   "execution_count": 7,
   "metadata": {},
   "outputs": [
    {
     "data": {
      "text/plain": [
       "True"
      ]
     },
     "execution_count": 7,
     "metadata": {},
     "output_type": "execute_result"
    }
   ],
   "source": [
    "c\n"
   ]
  },
  {
   "cell_type": "code",
   "execution_count": 36,
   "metadata": {},
   "outputs": [],
   "source": [
    "df =pd.read_excel('../../Documents/people_join_date.xlsx')"
   ]
  },
  {
   "cell_type": "code",
   "execution_count": 37,
   "metadata": {},
   "outputs": [],
   "source": [
    "df['Date'] =  pd.to_datetime(df['Date'])\n"
   ]
  },
  {
   "cell_type": "code",
   "execution_count": 38,
   "metadata": {},
   "outputs": [],
   "source": [
    "df.index=df['Date']"
   ]
  },
  {
   "cell_type": "code",
   "execution_count": 30,
   "metadata": {},
   "outputs": [],
   "source": [
    "df['C'] = np.arange(len(df))"
   ]
  },
  {
   "cell_type": "code",
   "execution_count": 39,
   "metadata": {},
   "outputs": [],
   "source": [
    "df =df.sort_index()"
   ]
  },
  {
   "cell_type": "code",
   "execution_count": 40,
   "metadata": {},
   "outputs": [],
   "source": [
    "df['C'] = np.arange(len(df))"
   ]
  },
  {
   "cell_type": "code",
   "execution_count": 41,
   "metadata": {},
   "outputs": [
    {
     "data": {
      "text/html": [
       "<div>\n",
       "<style scoped>\n",
       "    .dataframe tbody tr th:only-of-type {\n",
       "        vertical-align: middle;\n",
       "    }\n",
       "\n",
       "    .dataframe tbody tr th {\n",
       "        vertical-align: top;\n",
       "    }\n",
       "\n",
       "    .dataframe thead th {\n",
       "        text-align: right;\n",
       "    }\n",
       "</style>\n",
       "<table border=\"1\" class=\"dataframe\">\n",
       "  <thead>\n",
       "    <tr style=\"text-align: right;\">\n",
       "      <th></th>\n",
       "      <th>Person</th>\n",
       "      <th>Date</th>\n",
       "      <th>C</th>\n",
       "    </tr>\n",
       "    <tr>\n",
       "      <th>Date</th>\n",
       "      <th></th>\n",
       "      <th></th>\n",
       "      <th></th>\n",
       "    </tr>\n",
       "  </thead>\n",
       "  <tbody>\n",
       "    <tr>\n",
       "      <th>2019-05-26</th>\n",
       "      <td>10388</td>\n",
       "      <td>2019-05-26</td>\n",
       "      <td>0</td>\n",
       "    </tr>\n",
       "    <tr>\n",
       "      <th>2019-06-14</th>\n",
       "      <td>10032</td>\n",
       "      <td>2019-06-14</td>\n",
       "      <td>1</td>\n",
       "    </tr>\n",
       "    <tr>\n",
       "      <th>2019-06-27</th>\n",
       "      <td>10187</td>\n",
       "      <td>2019-06-27</td>\n",
       "      <td>2</td>\n",
       "    </tr>\n",
       "    <tr>\n",
       "      <th>2019-06-29</th>\n",
       "      <td>10006</td>\n",
       "      <td>2019-06-29</td>\n",
       "      <td>3</td>\n",
       "    </tr>\n",
       "    <tr>\n",
       "      <th>2019-07-04</th>\n",
       "      <td>10296</td>\n",
       "      <td>2019-07-04</td>\n",
       "      <td>4</td>\n",
       "    </tr>\n",
       "    <tr>\n",
       "      <th>2019-07-08</th>\n",
       "      <td>10399</td>\n",
       "      <td>2019-07-08</td>\n",
       "      <td>5</td>\n",
       "    </tr>\n",
       "    <tr>\n",
       "      <th>2019-07-08</th>\n",
       "      <td>10008</td>\n",
       "      <td>2019-07-08</td>\n",
       "      <td>6</td>\n",
       "    </tr>\n",
       "    <tr>\n",
       "      <th>2019-07-18</th>\n",
       "      <td>10027</td>\n",
       "      <td>2019-07-18</td>\n",
       "      <td>7</td>\n",
       "    </tr>\n",
       "    <tr>\n",
       "      <th>2019-07-18</th>\n",
       "      <td>10214</td>\n",
       "      <td>2019-07-18</td>\n",
       "      <td>8</td>\n",
       "    </tr>\n",
       "    <tr>\n",
       "      <th>2019-07-22</th>\n",
       "      <td>10110</td>\n",
       "      <td>2019-07-22</td>\n",
       "      <td>9</td>\n",
       "    </tr>\n",
       "    <tr>\n",
       "      <th>2019-07-25</th>\n",
       "      <td>10327</td>\n",
       "      <td>2019-07-25</td>\n",
       "      <td>10</td>\n",
       "    </tr>\n",
       "    <tr>\n",
       "      <th>2019-08-05</th>\n",
       "      <td>10137</td>\n",
       "      <td>2019-08-05</td>\n",
       "      <td>11</td>\n",
       "    </tr>\n",
       "    <tr>\n",
       "      <th>2019-08-05</th>\n",
       "      <td>10137</td>\n",
       "      <td>2019-08-05</td>\n",
       "      <td>12</td>\n",
       "    </tr>\n",
       "    <tr>\n",
       "      <th>2019-08-08</th>\n",
       "      <td>10389</td>\n",
       "      <td>2019-08-08</td>\n",
       "      <td>13</td>\n",
       "    </tr>\n",
       "    <tr>\n",
       "      <th>2019-08-08</th>\n",
       "      <td>10307</td>\n",
       "      <td>2019-08-08</td>\n",
       "      <td>14</td>\n",
       "    </tr>\n",
       "    <tr>\n",
       "      <th>2019-08-09</th>\n",
       "      <td>10342</td>\n",
       "      <td>2019-08-09</td>\n",
       "      <td>15</td>\n",
       "    </tr>\n",
       "    <tr>\n",
       "      <th>2019-08-19</th>\n",
       "      <td>10199</td>\n",
       "      <td>2019-08-19</td>\n",
       "      <td>16</td>\n",
       "    </tr>\n",
       "    <tr>\n",
       "      <th>2019-08-24</th>\n",
       "      <td>10101</td>\n",
       "      <td>2019-08-24</td>\n",
       "      <td>17</td>\n",
       "    </tr>\n",
       "    <tr>\n",
       "      <th>2019-08-24</th>\n",
       "      <td>10055</td>\n",
       "      <td>2019-08-24</td>\n",
       "      <td>18</td>\n",
       "    </tr>\n",
       "    <tr>\n",
       "      <th>2019-08-25</th>\n",
       "      <td>10261</td>\n",
       "      <td>2019-08-25</td>\n",
       "      <td>19</td>\n",
       "    </tr>\n",
       "    <tr>\n",
       "      <th>2019-08-25</th>\n",
       "      <td>10261</td>\n",
       "      <td>2019-08-25</td>\n",
       "      <td>20</td>\n",
       "    </tr>\n",
       "    <tr>\n",
       "      <th>2019-08-28</th>\n",
       "      <td>10157</td>\n",
       "      <td>2019-08-28</td>\n",
       "      <td>21</td>\n",
       "    </tr>\n",
       "    <tr>\n",
       "      <th>2019-08-28</th>\n",
       "      <td>10142</td>\n",
       "      <td>2019-08-28</td>\n",
       "      <td>22</td>\n",
       "    </tr>\n",
       "    <tr>\n",
       "      <th>2019-09-01</th>\n",
       "      <td>10178</td>\n",
       "      <td>2019-09-01</td>\n",
       "      <td>23</td>\n",
       "    </tr>\n",
       "    <tr>\n",
       "      <th>2019-09-04</th>\n",
       "      <td>10217</td>\n",
       "      <td>2019-09-04</td>\n",
       "      <td>24</td>\n",
       "    </tr>\n",
       "    <tr>\n",
       "      <th>2019-09-10</th>\n",
       "      <td>10195</td>\n",
       "      <td>2019-09-10</td>\n",
       "      <td>25</td>\n",
       "    </tr>\n",
       "    <tr>\n",
       "      <th>2019-09-11</th>\n",
       "      <td>10075</td>\n",
       "      <td>2019-09-11</td>\n",
       "      <td>26</td>\n",
       "    </tr>\n",
       "    <tr>\n",
       "      <th>2019-09-12</th>\n",
       "      <td>10237</td>\n",
       "      <td>2019-09-12</td>\n",
       "      <td>27</td>\n",
       "    </tr>\n",
       "    <tr>\n",
       "      <th>2019-09-14</th>\n",
       "      <td>10041</td>\n",
       "      <td>2019-09-14</td>\n",
       "      <td>28</td>\n",
       "    </tr>\n",
       "    <tr>\n",
       "      <th>2019-09-14</th>\n",
       "      <td>10271</td>\n",
       "      <td>2019-09-14</td>\n",
       "      <td>29</td>\n",
       "    </tr>\n",
       "    <tr>\n",
       "      <th>2019-09-23</th>\n",
       "      <td>10355</td>\n",
       "      <td>2019-09-23</td>\n",
       "      <td>30</td>\n",
       "    </tr>\n",
       "    <tr>\n",
       "      <th>2019-09-29</th>\n",
       "      <td>10374</td>\n",
       "      <td>2019-09-29</td>\n",
       "      <td>31</td>\n",
       "    </tr>\n",
       "    <tr>\n",
       "      <th>2019-09-29</th>\n",
       "      <td>10062</td>\n",
       "      <td>2019-09-29</td>\n",
       "      <td>32</td>\n",
       "    </tr>\n",
       "    <tr>\n",
       "      <th>2019-10-07</th>\n",
       "      <td>10215</td>\n",
       "      <td>2019-10-07</td>\n",
       "      <td>33</td>\n",
       "    </tr>\n",
       "    <tr>\n",
       "      <th>2019-10-07</th>\n",
       "      <td>10313</td>\n",
       "      <td>2019-10-07</td>\n",
       "      <td>34</td>\n",
       "    </tr>\n",
       "  </tbody>\n",
       "</table>\n",
       "</div>"
      ],
      "text/plain": [
       "            Person       Date   C\n",
       "Date                             \n",
       "2019-05-26   10388 2019-05-26   0\n",
       "2019-06-14   10032 2019-06-14   1\n",
       "2019-06-27   10187 2019-06-27   2\n",
       "2019-06-29   10006 2019-06-29   3\n",
       "2019-07-04   10296 2019-07-04   4\n",
       "2019-07-08   10399 2019-07-08   5\n",
       "2019-07-08   10008 2019-07-08   6\n",
       "2019-07-18   10027 2019-07-18   7\n",
       "2019-07-18   10214 2019-07-18   8\n",
       "2019-07-22   10110 2019-07-22   9\n",
       "2019-07-25   10327 2019-07-25  10\n",
       "2019-08-05   10137 2019-08-05  11\n",
       "2019-08-05   10137 2019-08-05  12\n",
       "2019-08-08   10389 2019-08-08  13\n",
       "2019-08-08   10307 2019-08-08  14\n",
       "2019-08-09   10342 2019-08-09  15\n",
       "2019-08-19   10199 2019-08-19  16\n",
       "2019-08-24   10101 2019-08-24  17\n",
       "2019-08-24   10055 2019-08-24  18\n",
       "2019-08-25   10261 2019-08-25  19\n",
       "2019-08-25   10261 2019-08-25  20\n",
       "2019-08-28   10157 2019-08-28  21\n",
       "2019-08-28   10142 2019-08-28  22\n",
       "2019-09-01   10178 2019-09-01  23\n",
       "2019-09-04   10217 2019-09-04  24\n",
       "2019-09-10   10195 2019-09-10  25\n",
       "2019-09-11   10075 2019-09-11  26\n",
       "2019-09-12   10237 2019-09-12  27\n",
       "2019-09-14   10041 2019-09-14  28\n",
       "2019-09-14   10271 2019-09-14  29\n",
       "2019-09-23   10355 2019-09-23  30\n",
       "2019-09-29   10374 2019-09-29  31\n",
       "2019-09-29   10062 2019-09-29  32\n",
       "2019-10-07   10215 2019-10-07  33\n",
       "2019-10-07   10313 2019-10-07  34"
      ]
     },
     "execution_count": 41,
     "metadata": {},
     "output_type": "execute_result"
    }
   ],
   "source": [
    "df"
   ]
  },
  {
   "cell_type": "code",
   "execution_count": null,
   "metadata": {},
   "outputs": [],
   "source": [
    "avoids = 10217"
   ]
  }
 ],
 "metadata": {
  "kernelspec": {
   "display_name": "Python 3",
   "language": "python",
   "name": "python3"
  },
  "language_info": {
   "codemirror_mode": {
    "name": "ipython",
    "version": 3
   },
   "file_extension": ".py",
   "mimetype": "text/x-python",
   "name": "python",
   "nbconvert_exporter": "python",
   "pygments_lexer": "ipython3",
   "version": "3.6.8"
  }
 },
 "nbformat": 4,
 "nbformat_minor": 2
}
