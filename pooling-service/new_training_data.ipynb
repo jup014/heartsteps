{
 "cells": [
  {
   "cell_type": "code",
   "execution_count": 7,
   "metadata": {},
   "outputs": [],
   "source": [
    "import gpytorch\n",
    "import pyreadr\n",
    "from sklearn import preprocessing\n",
    "import R_to_python_functions as RPY\n",
    "import hyperparameter_runner\n",
    "import json\n",
    "import pickle\n",
    "import sys\n",
    "import os\n",
    "import pandas as pd\n",
    "import numpy as np"
   ]
  },
  {
   "cell_type": "code",
   "execution_count": 2,
   "metadata": {},
   "outputs": [],
   "source": [
    "users = [u for u in os.listdir('data') if 'user' in u and 'pooled' not in u and 'test' not in u  and u[4:] in RPY.get_user_ids()]\n",
    "ul = {users[i].strip('user'):i for i in range(len(users))}"
   ]
  },
  {
   "cell_type": "code",
   "execution_count": 6,
   "metadata": {},
   "outputs": [
    {
     "data": {
      "text/plain": [
       "'10217'"
      ]
     },
     "execution_count": 6,
     "metadata": {},
     "output_type": "execute_result"
    }
   ],
   "source": [
    "users[0][4:]"
   ]
  },
  {
   "cell_type": "code",
   "execution_count": 4,
   "metadata": {},
   "outputs": [],
   "source": [
    "uls = [u.strip('user') for u in users]\n"
   ]
  },
  {
   "cell_type": "code",
   "execution_count": 5,
   "metadata": {},
   "outputs": [
    {
     "data": {
      "text/plain": [
       "['10217',\n",
       " '10157',\n",
       " '10307',\n",
       " '10399',\n",
       " '10118',\n",
       " '10187',\n",
       " '10142',\n",
       " '10110',\n",
       " '10261',\n",
       " '10008',\n",
       " '10006',\n",
       " '10055',\n",
       " '10027',\n",
       " '10214',\n",
       " '10101',\n",
       " '10137',\n",
       " '10199',\n",
       " '10342',\n",
       " '10389',\n",
       " '10327',\n",
       " '10178',\n",
       " '10388',\n",
       " '10296',\n",
       " '10032']"
      ]
     },
     "execution_count": 5,
     "metadata": {},
     "output_type": "execute_result"
    }
   ],
   "source": [
    "uls"
   ]
  },
  {
   "cell_type": "code",
   "execution_count": 4,
   "metadata": {},
   "outputs": [],
   "source": [
    "X = RPY.combine_users('./data',uls)"
   ]
  },
  {
   "cell_type": "code",
   "execution_count": 9,
   "metadata": {},
   "outputs": [],
   "source": [
    "with open('../../test_new_gpytorch/train_v2_data.pkl','wb') as f:\n",
    "    pickle.dump(X,f)"
   ]
  },
  {
   "cell_type": "code",
   "execution_count": 5,
   "metadata": {},
   "outputs": [],
   "source": [
    "with open('../../Downloads/test_params_v2.pkl','rb') as f:\n",
    "    t = pickle.load(f)"
   ]
  },
  {
   "cell_type": "code",
   "execution_count": 131,
   "metadata": {},
   "outputs": [],
   "source": [
    "def update_params(users,g,lookup):\n",
    "    for u in users:\n",
    "        data_path = 'data/{}/temp_policy.Rdata'.format('user'+u+'_pooled_params')\n",
    "        #print(data_path)\n",
    "        \n",
    "        mu = g[lookup[u]][0]\n",
    "        sigma = g[lookup[u]][1]\n",
    "        \n",
    "        pyreadr.write_rdata(data_path, pd.DataFrame({'mu':mu,'sigma':sigma}))\n",
    "        "
   ]
  },
  {
   "cell_type": "code",
   "execution_count": 134,
   "metadata": {},
   "outputs": [],
   "source": [
    "update_params(['10110'],t,ul)"
   ]
  },
  {
   "cell_type": "code",
   "execution_count": 128,
   "metadata": {},
   "outputs": [
    {
     "data": {
      "text/plain": [
       "{7: (array([-0.07441015,  0.48257828,  0.14194783,  0.04942812,  0.29255771]),\n",
       "  [array([ 0.21038003, -0.03530982,  0.00111724, -0.04528562,  0.02498912]),\n",
       "   array([-0.03530982,  0.22338639, -0.03296164, -0.00360989,  0.02996328]),\n",
       "   array([ 0.00111724, -0.03296164,  0.19748262,  0.01748249,  0.00630283]),\n",
       "   array([-0.04528562, -0.00360989,  0.01748249,  0.88788516,  0.01023821]),\n",
       "   array([0.02498912, 0.02996328, 0.00630283, 0.01023821, 0.20387498])]),\n",
       " 23: (array([-0.07441015,  0.48257828,  0.14194783,  0.04942812,  0.29255771]),\n",
       "  [array([ 0.21038003, -0.03530982,  0.00111724, -0.04528562,  0.02498912]),\n",
       "   array([-0.03530982,  0.22338639, -0.03296164, -0.00360989,  0.02996328]),\n",
       "   array([ 0.00111724, -0.03296164,  0.19748262,  0.01748249,  0.00630283]),\n",
       "   array([-0.04528562, -0.00360989,  0.01748249,  0.88788516,  0.01023821]),\n",
       "   array([0.02498912, 0.02996328, 0.00630283, 0.01023821, 0.20387498])])}"
      ]
     },
     "execution_count": 128,
     "metadata": {},
     "output_type": "execute_result"
    }
   ],
   "source": [
    "t"
   ]
  },
  {
   "cell_type": "code",
   "execution_count": 8,
   "metadata": {},
   "outputs": [
    {
     "data": {
      "text/plain": [
       "array([[1, 0, 0],\n",
       "       [0, 2, 0],\n",
       "       [0, 0, 3]])"
      ]
     },
     "execution_count": 8,
     "metadata": {},
     "output_type": "execute_result"
    }
   ],
   "source": [
    "np.diag([1,2,3])"
   ]
  },
  {
   "cell_type": "code",
   "execution_count": null,
   "metadata": {},
   "outputs": [],
   "source": []
  }
 ],
 "metadata": {
  "kernelspec": {
   "display_name": "Python 3",
   "language": "python",
   "name": "python3"
  },
  "language_info": {
   "codemirror_mode": {
    "name": "ipython",
    "version": 3
   },
   "file_extension": ".py",
   "mimetype": "text/x-python",
   "name": "python",
   "nbconvert_exporter": "python",
   "pygments_lexer": "ipython3",
   "version": "3.6.8"
  }
 },
 "nbformat": 4,
 "nbformat_minor": 2
}
